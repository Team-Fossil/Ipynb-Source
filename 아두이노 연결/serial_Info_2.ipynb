{
 "cells": [
  {
   "cell_type": "code",
   "execution_count": 7,
   "metadata": {},
   "outputs": [],
   "source": [
    "import serial"
   ]
  },
  {
   "cell_type": "code",
   "execution_count": 8,
   "metadata": {},
   "outputs": [
    {
     "data": {
      "text/plain": [
       "module"
      ]
     },
     "execution_count": 8,
     "metadata": {},
     "output_type": "execute_result"
    }
   ],
   "source": [
    "type(serial)"
   ]
  },
  {
   "cell_type": "code",
   "execution_count": 9,
   "metadata": {},
   "outputs": [
    {
     "data": {
      "text/plain": [
       "['CR',\n",
       " 'EIGHTBITS',\n",
       " 'FIVEBITS',\n",
       " 'LF',\n",
       " 'PARITY_EVEN',\n",
       " 'PARITY_MARK',\n",
       " 'PARITY_NAMES',\n",
       " 'PARITY_NONE',\n",
       " 'PARITY_ODD',\n",
       " 'PARITY_SPACE',\n",
       " 'PortNotOpenError',\n",
       " 'PosixPollSerial',\n",
       " 'SEVENBITS',\n",
       " 'SIXBITS',\n",
       " 'STOPBITS_ONE',\n",
       " 'STOPBITS_ONE_POINT_FIVE',\n",
       " 'STOPBITS_TWO',\n",
       " 'Serial',\n",
       " 'SerialBase',\n",
       " 'SerialException',\n",
       " 'SerialTimeoutException',\n",
       " 'Timeout',\n",
       " 'VERSION',\n",
       " 'VTIMESerial',\n",
       " 'XOFF',\n",
       " 'XON',\n",
       " '__builtins__',\n",
       " '__cached__',\n",
       " '__doc__',\n",
       " '__file__',\n",
       " '__loader__',\n",
       " '__name__',\n",
       " '__package__',\n",
       " '__path__',\n",
       " '__spec__',\n",
       " '__version__',\n",
       " 'absolute_import',\n",
       " 'basestring',\n",
       " 'importlib',\n",
       " 'io',\n",
       " 'iterbytes',\n",
       " 'os',\n",
       " 'protocol_handler_packages',\n",
       " 'serial_for_url',\n",
       " 'serialposix',\n",
       " 'serialutil',\n",
       " 'sys',\n",
       " 'time',\n",
       " 'to_bytes',\n",
       " 'unicode']"
      ]
     },
     "execution_count": 9,
     "metadata": {},
     "output_type": "execute_result"
    }
   ],
   "source": [
    "dir(serial)"
   ]
  },
  {
   "cell_type": "code",
   "execution_count": 10,
   "metadata": {},
   "outputs": [
    {
     "name": "stdout",
     "output_type": "stream",
     "text": [
      "Help on package serial:\n",
      "\n",
      "NAME\n",
      "    serial\n",
      "\n",
      "DESCRIPTION\n",
      "    # This is a wrapper module for different platform implementations\n",
      "    #\n",
      "    # This file is part of pySerial. https://github.com/pyserial/pyserial\n",
      "    # (C) 2001-2020 Chris Liechti <cliechti@gmx.net>\n",
      "    #\n",
      "    # SPDX-License-Identifier:    BSD-3-Clause\n",
      "\n",
      "PACKAGE CONTENTS\n",
      "    __main__\n",
      "    rfc2217\n",
      "    rs485\n",
      "    serialcli\n",
      "    serialjava\n",
      "    serialposix\n",
      "    serialutil\n",
      "    serialwin32\n",
      "    threaded (package)\n",
      "    tools (package)\n",
      "    urlhandler (package)\n",
      "    win32\n",
      "\n",
      "FUNCTIONS\n",
      "    serial_for_url(url, *args, **kwargs)\n",
      "        Get an instance of the Serial class, depending on port/url. The port is not\n",
      "        opened when the keyword parameter 'do_not_open' is true, by default it\n",
      "        is. All other parameters are directly passed to the __init__ method when\n",
      "        the port is instantiated.\n",
      "        \n",
      "        The list of package names that is searched for protocol handlers is kept in\n",
      "        ``protocol_handler_packages``.\n",
      "        \n",
      "        e.g. we want to support a URL ``foobar://``. A module\n",
      "        ``my_handlers.protocol_foobar`` is provided by the user. Then\n",
      "        ``protocol_handler_packages.append(\"my_handlers\")`` would extend the search\n",
      "        path so that ``serial_for_url(\"foobar://\"))`` would work.\n",
      "\n",
      "DATA\n",
      "    CR = b'\\r'\n",
      "    EIGHTBITS = 8\n",
      "    FIVEBITS = 5\n",
      "    LF = b'\\n'\n",
      "    PARITY_EVEN = 'E'\n",
      "    PARITY_MARK = 'M'\n",
      "    PARITY_NAMES = {'E': 'Even', 'M': 'Mark', 'N': 'None', 'O': 'Odd', 'S'...\n",
      "    PARITY_NONE = 'N'\n",
      "    PARITY_ODD = 'O'\n",
      "    PARITY_SPACE = 'S'\n",
      "    SEVENBITS = 7\n",
      "    SIXBITS = 6\n",
      "    STOPBITS_ONE = 1\n",
      "    STOPBITS_ONE_POINT_FIVE = 1.5\n",
      "    STOPBITS_TWO = 2\n",
      "    VERSION = '3.5'\n",
      "    XOFF = b'\\x13'\n",
      "    XON = b'\\x11'\n",
      "    basestring = (<class 'str'>,)\n",
      "    protocol_handler_packages = ['serial.urlhandler']\n",
      "\n",
      "VERSION\n",
      "    3.5\n",
      "\n",
      "FILE\n",
      "    /opt/anaconda3/lib/python3.11/site-packages/serial/__init__.py\n",
      "\n",
      "\n"
     ]
    }
   ],
   "source": [
    "help(serial)"
   ]
  },
  {
   "cell_type": "code",
   "execution_count": 11,
   "metadata": {},
   "outputs": [
    {
     "data": {
      "text/plain": [
       "Serial<id=0x11a214550, open=True>(port='/dev/tty.usbserial-1130', baudrate=9600, bytesize=8, parity='N', stopbits=1, timeout=None, xonxoff=False, rtscts=False, dsrdtr=False)"
      ]
     },
     "execution_count": 11,
     "metadata": {},
     "output_type": "execute_result"
    }
   ],
   "source": [
    "serial.Serial(\"/dev/tty.usbserial-1130\",9600)"
   ]
  }
 ],
 "metadata": {
  "kernelspec": {
   "display_name": "base",
   "language": "python",
   "name": "python3"
  },
  "language_info": {
   "codemirror_mode": {
    "name": "ipython",
    "version": 3
   },
   "file_extension": ".py",
   "mimetype": "text/x-python",
   "name": "python",
   "nbconvert_exporter": "python",
   "pygments_lexer": "ipython3",
   "version": "3.11.7"
  }
 },
 "nbformat": 4,
 "nbformat_minor": 2
}
